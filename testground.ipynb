{
 "cells": [
  {
   "cell_type": "code",
   "execution_count": null,
   "metadata": {},
   "outputs": [],
   "source": [
    "print(\"Importing libraries ...\")\n",
    "import os\n",
    "import sys\n",
    "import torch\n",
    "import ffmpeg\n",
    "import numpy as np\n",
    "from pydub import AudioSegment\n",
    "print(\"Importing Hugging Face libraries ...\")\n",
    "from transformers import pipeline, WhisperProcessor, WhisperForConditionalGeneration"
   ]
  },
  {
   "cell_type": "code",
   "execution_count": null,
   "metadata": {},
   "outputs": [],
   "source": [
    "def split_audio(audio, chunk_length_ms=30000):\n",
    "    return [audio[i:i + chunk_length_ms] for i in range(0, len(audio), chunk_length_ms)]\n",
    "\n",
    "\n",
    "audio_path='test_video2.mp4'\n",
    "model = WhisperForConditionalGeneration.from_pretrained(\"openai/whisper-medium\")\n",
    "processor = WhisperProcessor.from_pretrained(\"openai/whisper-medium\")\n",
    "audio = AudioSegment.from_file(audio_path).set_frame_rate(16000).set_channels(1)\n",
    "\n",
    "chunks = split_audio(audio)\n",
    "transcriptions = []\n",
    "for chunk in chunks:\n",
    "    audio_samples = np.array(chunk.get_array_of_samples()).astype(np.float32) / 32768.0\n",
    "    input_features = processor(audio_samples, sampling_rate=16000, return_tensors=\"pt\").input_features\n",
    "    print(f\"Performing transcription ...\")\n",
    "    predicted_ids = model.generate(input_features, max_length=448)\n",
    "    transcriptions.append(processor.batch_decode(predicted_ids, skip_special_tokens=True)[0])\n",
    "full_transcription = \" \".join(transcriptions)\n",
    "print(\"STEP 3: Text Summarization\")\n",
    "\n",
    "print(f\"Loading summarization pipeline ...\")\n",
    "facebook_bart = pipeline(\"summarization\", model=\"facebook/bart-large-cnn\")\n",
    "facebook_roberta = pipeline(\"summarization\", model=\"facebook/bart-large-mnli\")\n",
    "microsoft_deberta = pipeline(\"summarization\", model=\"microsoft/deberta-v3-base\")\n",
    "\n",
    "print(f\"Summarizing text ...\")\n",
    "\n",
    "summary1 = facebook_bart(transcription, max_length=150, min_length=30, do_sample=False)\n",
    "summary2 = facebook_roberta(transcription, max_length=150, min_length=30, do_sample=False)\n",
    "summary3 = microsoft_deberta(transcription, max_length=150, min_length=30, do_sample=False)\n",
    "\n",
    "print(\"Parse summary into bullet points\")\n",
    "bullet_points = \"\\n\".join([f\"- {point.strip()}\" for point in summary[0]['summary_text'].split('.') if point])\n",
    "\n",
    "\n"
   ]
  }
 ],
 "metadata": {
  "kernelspec": {
   "display_name": "Python 3",
   "language": "python",
   "name": "python3"
  },
  "language_info": {
   "codemirror_mode": {
    "name": "ipython",
    "version": 3
   },
   "file_extension": ".py",
   "mimetype": "text/x-python",
   "name": "python",
   "nbconvert_exporter": "python",
   "pygments_lexer": "ipython3",
   "version": "3.7.7"
  }
 },
 "nbformat": 4,
 "nbformat_minor": 4
}
